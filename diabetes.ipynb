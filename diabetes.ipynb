{
  "nbformat": 4,
  "nbformat_minor": 0,
  "metadata": {
    "colab": {
      "name": "diabetes.ipynb",
      "provenance": [],
      "toc_visible": true,
      "authorship_tag": "ABX9TyP6gMXP6N7spUQiX4Dzj8hO",
      "include_colab_link": true
    },
    "kernelspec": {
      "name": "python3",
      "display_name": "Python 3"
    },
    "language_info": {
      "name": "python"
    }
  },
  "cells": [
    {
      "cell_type": "markdown",
      "metadata": {
        "id": "view-in-github",
        "colab_type": "text"
      },
      "source": [
        "<a href=\"https://colab.research.google.com/github/Mayuri-thatikonda/diabetes_prediction/blob/main/diabetes.ipynb\" target=\"_parent\"><img src=\"https://colab.research.google.com/assets/colab-badge.svg\" alt=\"Open In Colab\"/></a>"
      ]
    },
    {
      "cell_type": "code",
      "metadata": {
        "id": "IiNQ09e1_VJU"
      },
      "source": [
        "import numpy as np\n",
        "import pandas as pd\n",
        "import matplotlib.pyplot as plt\n"
      ],
      "execution_count": 1,
      "outputs": []
    },
    {
      "cell_type": "code",
      "metadata": {
        "colab": {
          "base_uri": "https://localhost:8080/",
          "height": 261
        },
        "id": "1dI5JY59j5rk",
        "outputId": "353710c1-77b3-4bbe-9bd9-449adfeb296e"
      },
      "source": [
        "dataset=pd.read_csv('diabetes_prediction.csv')\n",
        "dataset.tail()"
      ],
      "execution_count": 2,
      "outputs": [
        {
          "output_type": "execute_result",
          "data": {
            "text/html": [
              "<div>\n",
              "<style scoped>\n",
              "    .dataframe tbody tr th:only-of-type {\n",
              "        vertical-align: middle;\n",
              "    }\n",
              "\n",
              "    .dataframe tbody tr th {\n",
              "        vertical-align: top;\n",
              "    }\n",
              "\n",
              "    .dataframe thead th {\n",
              "        text-align: right;\n",
              "    }\n",
              "</style>\n",
              "<table border=\"1\" class=\"dataframe\">\n",
              "  <thead>\n",
              "    <tr style=\"text-align: right;\">\n",
              "      <th></th>\n",
              "      <th>Age</th>\n",
              "      <th>Gender</th>\n",
              "      <th>Polyuria</th>\n",
              "      <th>Polydipsia</th>\n",
              "      <th>sudden weight loss</th>\n",
              "      <th>weakness</th>\n",
              "      <th>Polyphagia</th>\n",
              "      <th>Genital thrush</th>\n",
              "      <th>visual blurring</th>\n",
              "      <th>Itching</th>\n",
              "      <th>Irritability</th>\n",
              "      <th>delayed healing</th>\n",
              "      <th>partial paresis</th>\n",
              "      <th>muscle stiffness</th>\n",
              "      <th>Alopecia</th>\n",
              "      <th>Obesity</th>\n",
              "      <th>class</th>\n",
              "    </tr>\n",
              "  </thead>\n",
              "  <tbody>\n",
              "    <tr>\n",
              "      <th>515</th>\n",
              "      <td>39</td>\n",
              "      <td>Female</td>\n",
              "      <td>Yes</td>\n",
              "      <td>Yes</td>\n",
              "      <td>Yes</td>\n",
              "      <td>No</td>\n",
              "      <td>Yes</td>\n",
              "      <td>No</td>\n",
              "      <td>No</td>\n",
              "      <td>Yes</td>\n",
              "      <td>No</td>\n",
              "      <td>Yes</td>\n",
              "      <td>Yes</td>\n",
              "      <td>No</td>\n",
              "      <td>No</td>\n",
              "      <td>No</td>\n",
              "      <td>Positive</td>\n",
              "    </tr>\n",
              "    <tr>\n",
              "      <th>516</th>\n",
              "      <td>48</td>\n",
              "      <td>Female</td>\n",
              "      <td>Yes</td>\n",
              "      <td>Yes</td>\n",
              "      <td>Yes</td>\n",
              "      <td>Yes</td>\n",
              "      <td>Yes</td>\n",
              "      <td>No</td>\n",
              "      <td>No</td>\n",
              "      <td>Yes</td>\n",
              "      <td>Yes</td>\n",
              "      <td>Yes</td>\n",
              "      <td>Yes</td>\n",
              "      <td>No</td>\n",
              "      <td>No</td>\n",
              "      <td>No</td>\n",
              "      <td>Positive</td>\n",
              "    </tr>\n",
              "    <tr>\n",
              "      <th>517</th>\n",
              "      <td>58</td>\n",
              "      <td>Female</td>\n",
              "      <td>Yes</td>\n",
              "      <td>Yes</td>\n",
              "      <td>Yes</td>\n",
              "      <td>Yes</td>\n",
              "      <td>Yes</td>\n",
              "      <td>No</td>\n",
              "      <td>Yes</td>\n",
              "      <td>No</td>\n",
              "      <td>No</td>\n",
              "      <td>No</td>\n",
              "      <td>Yes</td>\n",
              "      <td>Yes</td>\n",
              "      <td>No</td>\n",
              "      <td>Yes</td>\n",
              "      <td>Positive</td>\n",
              "    </tr>\n",
              "    <tr>\n",
              "      <th>518</th>\n",
              "      <td>32</td>\n",
              "      <td>Female</td>\n",
              "      <td>No</td>\n",
              "      <td>No</td>\n",
              "      <td>No</td>\n",
              "      <td>Yes</td>\n",
              "      <td>No</td>\n",
              "      <td>No</td>\n",
              "      <td>Yes</td>\n",
              "      <td>Yes</td>\n",
              "      <td>No</td>\n",
              "      <td>Yes</td>\n",
              "      <td>No</td>\n",
              "      <td>No</td>\n",
              "      <td>Yes</td>\n",
              "      <td>No</td>\n",
              "      <td>Negative</td>\n",
              "    </tr>\n",
              "    <tr>\n",
              "      <th>519</th>\n",
              "      <td>42</td>\n",
              "      <td>Male</td>\n",
              "      <td>No</td>\n",
              "      <td>No</td>\n",
              "      <td>No</td>\n",
              "      <td>No</td>\n",
              "      <td>No</td>\n",
              "      <td>No</td>\n",
              "      <td>No</td>\n",
              "      <td>No</td>\n",
              "      <td>No</td>\n",
              "      <td>No</td>\n",
              "      <td>No</td>\n",
              "      <td>No</td>\n",
              "      <td>No</td>\n",
              "      <td>No</td>\n",
              "      <td>Negative</td>\n",
              "    </tr>\n",
              "  </tbody>\n",
              "</table>\n",
              "</div>"
            ],
            "text/plain": [
              "     Age  Gender Polyuria  ... Alopecia Obesity     class\n",
              "515   39  Female      Yes  ...       No      No  Positive\n",
              "516   48  Female      Yes  ...       No      No  Positive\n",
              "517   58  Female      Yes  ...       No     Yes  Positive\n",
              "518   32  Female       No  ...      Yes      No  Negative\n",
              "519   42    Male       No  ...       No      No  Negative\n",
              "\n",
              "[5 rows x 17 columns]"
            ]
          },
          "metadata": {
            "tags": []
          },
          "execution_count": 2
        }
      ]
    },
    {
      "cell_type": "code",
      "metadata": {
        "colab": {
          "base_uri": "https://localhost:8080/"
        },
        "id": "AwkwQYrMaY6D",
        "outputId": "369fbc7a-d612-4fbc-a463-f17c452047f3"
      },
      "source": [
        "print(dataset.columns)"
      ],
      "execution_count": 3,
      "outputs": [
        {
          "output_type": "stream",
          "text": [
            "Index(['Age', 'Gender', 'Polyuria', 'Polydipsia', 'sudden weight loss',\n",
            "       'weakness', 'Polyphagia', 'Genital thrush', 'visual blurring',\n",
            "       'Itching', 'Irritability', 'delayed healing', 'partial paresis',\n",
            "       'muscle stiffness', 'Alopecia', 'Obesity', 'class'],\n",
            "      dtype='object')\n"
          ],
          "name": "stdout"
        }
      ]
    },
    {
      "cell_type": "code",
      "metadata": {
        "colab": {
          "base_uri": "https://localhost:8080/"
        },
        "id": "U0zlTACQkO9y",
        "outputId": "81541f3e-afc5-47a0-b424-7666b5b8ef0e"
      },
      "source": [
        "dataset.nunique()"
      ],
      "execution_count": 4,
      "outputs": [
        {
          "output_type": "execute_result",
          "data": {
            "text/plain": [
              "Age                   51\n",
              "Gender                 2\n",
              "Polyuria               2\n",
              "Polydipsia             2\n",
              "sudden weight loss     2\n",
              "weakness               2\n",
              "Polyphagia             2\n",
              "Genital thrush         2\n",
              "visual blurring        2\n",
              "Itching                2\n",
              "Irritability           2\n",
              "delayed healing        2\n",
              "partial paresis        2\n",
              "muscle stiffness       2\n",
              "Alopecia               2\n",
              "Obesity                2\n",
              "class                  2\n",
              "dtype: int64"
            ]
          },
          "metadata": {
            "tags": []
          },
          "execution_count": 4
        }
      ]
    },
    {
      "cell_type": "code",
      "metadata": {
        "colab": {
          "base_uri": "https://localhost:8080/"
        },
        "id": "3AuO6Y2PkPJz",
        "outputId": "7335ccdf-007e-448d-992f-13b1127a05de"
      },
      "source": [
        "dataset.dtypes"
      ],
      "execution_count": 5,
      "outputs": [
        {
          "output_type": "execute_result",
          "data": {
            "text/plain": [
              "Age                    int64\n",
              "Gender                object\n",
              "Polyuria              object\n",
              "Polydipsia            object\n",
              "sudden weight loss    object\n",
              "weakness              object\n",
              "Polyphagia            object\n",
              "Genital thrush        object\n",
              "visual blurring       object\n",
              "Itching               object\n",
              "Irritability          object\n",
              "delayed healing       object\n",
              "partial paresis       object\n",
              "muscle stiffness      object\n",
              "Alopecia              object\n",
              "Obesity               object\n",
              "class                 object\n",
              "dtype: object"
            ]
          },
          "metadata": {
            "tags": []
          },
          "execution_count": 5
        }
      ]
    },
    {
      "cell_type": "code",
      "metadata": {
        "colab": {
          "base_uri": "https://localhost:8080/"
        },
        "id": "9gVoMHmfkPVL",
        "outputId": "1ab5fad2-fe98-4e09-f528-d3ed0aad891e"
      },
      "source": [
        "dataset.info()"
      ],
      "execution_count": 6,
      "outputs": [
        {
          "output_type": "stream",
          "text": [
            "<class 'pandas.core.frame.DataFrame'>\n",
            "RangeIndex: 520 entries, 0 to 519\n",
            "Data columns (total 17 columns):\n",
            " #   Column              Non-Null Count  Dtype \n",
            "---  ------              --------------  ----- \n",
            " 0   Age                 520 non-null    int64 \n",
            " 1   Gender              520 non-null    object\n",
            " 2   Polyuria            520 non-null    object\n",
            " 3   Polydipsia          520 non-null    object\n",
            " 4   sudden weight loss  520 non-null    object\n",
            " 5   weakness            520 non-null    object\n",
            " 6   Polyphagia          520 non-null    object\n",
            " 7   Genital thrush      520 non-null    object\n",
            " 8   visual blurring     520 non-null    object\n",
            " 9   Itching             520 non-null    object\n",
            " 10  Irritability        520 non-null    object\n",
            " 11  delayed healing     520 non-null    object\n",
            " 12  partial paresis     520 non-null    object\n",
            " 13  muscle stiffness    520 non-null    object\n",
            " 14  Alopecia            520 non-null    object\n",
            " 15  Obesity             520 non-null    object\n",
            " 16  class               520 non-null    object\n",
            "dtypes: int64(1), object(16)\n",
            "memory usage: 69.2+ KB\n"
          ],
          "name": "stdout"
        }
      ]
    },
    {
      "cell_type": "code",
      "metadata": {
        "colab": {
          "base_uri": "https://localhost:8080/"
        },
        "id": "sMlrK1tTZ0gP",
        "outputId": "c28bffa3-88bb-43cd-f306-b9e45ba4c48c"
      },
      "source": [
        "print(dataset.columns)"
      ],
      "execution_count": 7,
      "outputs": [
        {
          "output_type": "stream",
          "text": [
            "Index(['Age', 'Gender', 'Polyuria', 'Polydipsia', 'sudden weight loss',\n",
            "       'weakness', 'Polyphagia', 'Genital thrush', 'visual blurring',\n",
            "       'Itching', 'Irritability', 'delayed healing', 'partial paresis',\n",
            "       'muscle stiffness', 'Alopecia', 'Obesity', 'class'],\n",
            "      dtype='object')\n"
          ],
          "name": "stdout"
        }
      ]
    },
    {
      "cell_type": "code",
      "metadata": {
        "colab": {
          "base_uri": "https://localhost:8080/",
          "height": 300
        },
        "id": "Be3jIxUNkhBe",
        "outputId": "e566b99c-9e76-4ebb-cd1a-1d8f8ab0c51f"
      },
      "source": [
        "dataset.describe()"
      ],
      "execution_count": 8,
      "outputs": [
        {
          "output_type": "execute_result",
          "data": {
            "text/html": [
              "<div>\n",
              "<style scoped>\n",
              "    .dataframe tbody tr th:only-of-type {\n",
              "        vertical-align: middle;\n",
              "    }\n",
              "\n",
              "    .dataframe tbody tr th {\n",
              "        vertical-align: top;\n",
              "    }\n",
              "\n",
              "    .dataframe thead th {\n",
              "        text-align: right;\n",
              "    }\n",
              "</style>\n",
              "<table border=\"1\" class=\"dataframe\">\n",
              "  <thead>\n",
              "    <tr style=\"text-align: right;\">\n",
              "      <th></th>\n",
              "      <th>Age</th>\n",
              "    </tr>\n",
              "  </thead>\n",
              "  <tbody>\n",
              "    <tr>\n",
              "      <th>count</th>\n",
              "      <td>520.000000</td>\n",
              "    </tr>\n",
              "    <tr>\n",
              "      <th>mean</th>\n",
              "      <td>48.028846</td>\n",
              "    </tr>\n",
              "    <tr>\n",
              "      <th>std</th>\n",
              "      <td>12.151466</td>\n",
              "    </tr>\n",
              "    <tr>\n",
              "      <th>min</th>\n",
              "      <td>16.000000</td>\n",
              "    </tr>\n",
              "    <tr>\n",
              "      <th>25%</th>\n",
              "      <td>39.000000</td>\n",
              "    </tr>\n",
              "    <tr>\n",
              "      <th>50%</th>\n",
              "      <td>47.500000</td>\n",
              "    </tr>\n",
              "    <tr>\n",
              "      <th>75%</th>\n",
              "      <td>57.000000</td>\n",
              "    </tr>\n",
              "    <tr>\n",
              "      <th>max</th>\n",
              "      <td>90.000000</td>\n",
              "    </tr>\n",
              "  </tbody>\n",
              "</table>\n",
              "</div>"
            ],
            "text/plain": [
              "              Age\n",
              "count  520.000000\n",
              "mean    48.028846\n",
              "std     12.151466\n",
              "min     16.000000\n",
              "25%     39.000000\n",
              "50%     47.500000\n",
              "75%     57.000000\n",
              "max     90.000000"
            ]
          },
          "metadata": {
            "tags": []
          },
          "execution_count": 8
        }
      ]
    },
    {
      "cell_type": "code",
      "metadata": {
        "colab": {
          "base_uri": "https://localhost:8080/"
        },
        "id": "amyBg_a6khOu",
        "outputId": "f3c31bb4-dfe4-4662-ec91-df99584c917f"
      },
      "source": [
        "dataset.isnull().sum()"
      ],
      "execution_count": 9,
      "outputs": [
        {
          "output_type": "execute_result",
          "data": {
            "text/plain": [
              "Age                   0\n",
              "Gender                0\n",
              "Polyuria              0\n",
              "Polydipsia            0\n",
              "sudden weight loss    0\n",
              "weakness              0\n",
              "Polyphagia            0\n",
              "Genital thrush        0\n",
              "visual blurring       0\n",
              "Itching               0\n",
              "Irritability          0\n",
              "delayed healing       0\n",
              "partial paresis       0\n",
              "muscle stiffness      0\n",
              "Alopecia              0\n",
              "Obesity               0\n",
              "class                 0\n",
              "dtype: int64"
            ]
          },
          "metadata": {
            "tags": []
          },
          "execution_count": 9
        }
      ]
    },
    {
      "cell_type": "code",
      "metadata": {
        "colab": {
          "base_uri": "https://localhost:8080/"
        },
        "id": "wmKjOuuxktRK",
        "outputId": "31aab9f0-de04-4657-c217-58f5f75b341f"
      },
      "source": [
        "dataset.shape"
      ],
      "execution_count": 10,
      "outputs": [
        {
          "output_type": "execute_result",
          "data": {
            "text/plain": [
              "(520, 17)"
            ]
          },
          "metadata": {
            "tags": []
          },
          "execution_count": 10
        }
      ]
    },
    {
      "cell_type": "code",
      "metadata": {
        "colab": {
          "base_uri": "https://localhost:8080/",
          "height": 383
        },
        "id": "_BkrqWUskxcX",
        "outputId": "2963dd82-90b3-42f8-f30d-79a6358bf349"
      },
      "source": [
        "import seaborn as sns\n",
        "sns.catplot(x='class', data=dataset, kind='count');\n"
      ],
      "execution_count": 11,
      "outputs": [
        {
          "output_type": "display_data",
          "data": {
            "image/png": "[encoded data removed]",
            "text/plain": [
              "<Figure size 360x360 with 1 Axes>"
            ]
          },
          "metadata": {
            "tags": [],
            "needs_background": "light"
          }
        }
      ]
    },
    {
      "cell_type": "code",
      "metadata": {
        "id": "hXJkKtQBgEE3"
      },
      "source": [
        ""
      ],
      "execution_count": 11,
      "outputs": []
    },
    {
      "cell_type": "code",
      "metadata": {
        "id": "fv1ZCh83kx1w",
        "colab": {
          "base_uri": "https://localhost:8080/"
        },
        "outputId": "418b2003-31b0-4bfc-ff7c-2d39594c667d"
      },
      "source": [
        "from sklearn.preprocessing import LabelEncoder\n",
        "le = LabelEncoder()\n",
        "dataset = dataset[['Gender', 'Polyuria', 'Polydipsia', 'sudden weight loss',\n",
        "       'weakness', 'Polyphagia', 'Genital thrush', 'visual blurring',\n",
        "       'Itching', 'Irritability', 'delayed healing', 'partial paresis',\n",
        "       'muscle stiffness', 'Alopecia', 'Obesity', 'class',]].apply(le.fit_transform)\n",
        "print(dataset)"
      ],
      "execution_count": 12,
      "outputs": [
        {
          "output_type": "stream",
          "text": [
            "     Gender  Polyuria  Polydipsia  ...  Alopecia  Obesity  class\n",
            "0         1         0           1  ...         1        1      1\n",
            "1         1         0           0  ...         1        0      1\n",
            "2         1         1           0  ...         1        0      1\n",
            "3         1         0           0  ...         0        0      1\n",
            "4         1         1           1  ...         1        1      1\n",
            "..      ...       ...         ...  ...       ...      ...    ...\n",
            "515       0         1           1  ...         0        0      1\n",
            "516       0         1           1  ...         0        0      1\n",
            "517       0         1           1  ...         0        1      1\n",
            "518       0         0           0  ...         1        0      0\n",
            "519       1         0           0  ...         0        0      0\n",
            "\n",
            "[520 rows x 16 columns]\n"
          ],
          "name": "stdout"
        }
      ]
    },
    {
      "cell_type": "code",
      "metadata": {
        "id": "CFeaoEu_d9cM"
      },
      "source": [
        "X = dataset.iloc[:, :-1].values\n",
        "y = dataset.iloc[:, -1].values\n",
        "\n"
      ],
      "execution_count": 17,
      "outputs": []
    },
    {
      "cell_type": "code",
      "metadata": {
        "colab": {
          "base_uri": "https://localhost:8080/",
          "height": 901
        },
        "id": "u_23-3J1hhJA",
        "outputId": "63e67cff-018b-4e59-9e84-182a4ac3ff18"
      },
      "source": [
        "import seaborn as sns\n",
        "plt.figure(figsize=(18,18))\n",
        "hm=sns.heatmap(dataset.corr(),annot=True,cmap=\"RdYlGn\")\n",
        "plt.show()\n"
      ],
      "execution_count": 18,
      "outputs": [
        {
          "output_type": "display_data",
          "data": {
            "image/png": "[encoded data removed]",
            "text/plain": [
              "<Figure size 1296x1296 with 2 Axes>"
            ]
          },
          "metadata": {
            "tags": [],
            "needs_background": "light"
          }
        }
      ]
    },
    {
      "cell_type": "code",
      "metadata": {
        "id": "q4pEigBQhwW1"
      },
      "source": [
        "from sklearn.model_selection import train_test_split\n",
        "from sklearn.ensemble import ExtraTreesRegressor\n",
        "X_train, X_test, y_train, y_test = train_test_split(\n",
        "       X, y,test_size = 0.2, random_state=0)\n",
        "reg = ExtraTreesRegressor(n_estimators=100, random_state=0).fit(\n",
        "       X_train, y_train)"
      ],
      "execution_count": 19,
      "outputs": []
    },
    {
      "cell_type": "code",
      "metadata": {
        "colab": {
          "base_uri": "https://localhost:8080/"
        },
        "id": "VxEkAOiSiAhz",
        "outputId": "e6c4073d-2182-4106-e3de-00893fc3374f"
      },
      "source": [
        "print(reg.feature_importances_)\n"
      ],
      "execution_count": 20,
      "outputs": [
        {
          "output_type": "stream",
          "text": [
            "[0.1137534  0.44875549 0.0830507  0.01933292 0.01797541 0.01262116\n",
            " 0.04849295 0.02341252 0.02228001 0.02885249 0.03116244 0.01100171\n",
            " 0.03549413 0.06700595 0.03680872]\n"
          ],
          "name": "stdout"
        }
      ]
    },
    {
      "cell_type": "code",
      "metadata": {
        "colab": {
          "base_uri": "https://localhost:8080/"
        },
        "id": "Saad7YyAiNlM",
        "outputId": "79e6bcf4-e129-4c4a-e62c-b6cec958e9ed"
      },
      "source": [
        "from sklearn.ensemble import RandomForestRegressor\n",
        "regressor = RandomForestRegressor(n_estimators = 10, random_state = 0)\n",
        "regressor.fit(X_train, y_train)\n",
        "y_pred = regressor.predict(X_test)\n",
        "np.set_printoptions(precision=2)\n",
        "print(np.concatenate((y_pred.reshape(len(y_pred),1), y_test.reshape(len(y_test),1)),1))\n",
        "from sklearn.metrics import r2_score\n",
        "r2_score(y_test, y_pred)"
      ],
      "execution_count": 21,
      "outputs": [
        {
          "output_type": "stream",
          "text": [
            "[[0.7 1. ]\n",
            " [1.  1. ]\n",
            " [1.  1. ]\n",
            " [0.  0. ]\n",
            " [0.  0. ]\n",
            " [1.  1. ]\n",
            " [1.  1. ]\n",
            " [1.  1. ]\n",
            " [0.9 1. ]\n",
            " [1.  1. ]\n",
            " [1.  1. ]\n",
            " [0.  0. ]\n",
            " [0.7 1. ]\n",
            " [1.  1. ]\n",
            " [1.  1. ]\n",
            " [1.  1. ]\n",
            " [0.  0. ]\n",
            " [1.  1. ]\n",
            " [1.  1. ]\n",
            " [1.  1. ]\n",
            " [1.  1. ]\n",
            " [1.  1. ]\n",
            " [1.  1. ]\n",
            " [0.  0. ]\n",
            " [0.  0. ]\n",
            " [0.  0. ]\n",
            " [0.9 1. ]\n",
            " [1.  1. ]\n",
            " [0.  0. ]\n",
            " [1.  1. ]\n",
            " [1.  1. ]\n",
            " [0.  0. ]\n",
            " [0.  0. ]\n",
            " [1.  1. ]\n",
            " [1.  1. ]\n",
            " [0.6 1. ]\n",
            " [1.  1. ]\n",
            " [0.  0. ]\n",
            " [1.  1. ]\n",
            " [1.  1. ]\n",
            " [0.4 1. ]\n",
            " [0.  0. ]\n",
            " [1.  1. ]\n",
            " [0.  0. ]\n",
            " [0.  0. ]\n",
            " [1.  1. ]\n",
            " [1.  1. ]\n",
            " [0.1 0. ]\n",
            " [1.  1. ]\n",
            " [0.1 0. ]\n",
            " [1.  1. ]\n",
            " [0.  0. ]\n",
            " [1.  1. ]\n",
            " [0.  0. ]\n",
            " [1.  1. ]\n",
            " [0.2 1. ]\n",
            " [1.  1. ]\n",
            " [0.9 1. ]\n",
            " [1.  1. ]\n",
            " [1.  1. ]\n",
            " [0.  0. ]\n",
            " [0.  0. ]\n",
            " [1.  1. ]\n",
            " [0.  0. ]\n",
            " [1.  1. ]\n",
            " [0.  0. ]\n",
            " [1.  1. ]\n",
            " [0.  0. ]\n",
            " [1.  1. ]\n",
            " [1.  1. ]\n",
            " [0.  0. ]\n",
            " [0.  0. ]\n",
            " [1.  1. ]\n",
            " [0.9 1. ]\n",
            " [0.  0. ]\n",
            " [1.  1. ]\n",
            " [0.  0. ]\n",
            " [1.  1. ]\n",
            " [1.  1. ]\n",
            " [0.  0. ]\n",
            " [1.  1. ]\n",
            " [1.  1. ]\n",
            " [0.  0. ]\n",
            " [0.  0. ]\n",
            " [1.  1. ]\n",
            " [0.1 0. ]\n",
            " [1.  1. ]\n",
            " [1.  1. ]\n",
            " [0.  0. ]\n",
            " [0.  0. ]\n",
            " [0.  0. ]\n",
            " [0.  0. ]\n",
            " [0.  0. ]\n",
            " [0.  0. ]\n",
            " [0.  0. ]\n",
            " [0.9 1. ]\n",
            " [1.  1. ]\n",
            " [1.  1. ]\n",
            " [1.  1. ]\n",
            " [0.  0. ]\n",
            " [0.  0. ]\n",
            " [0.7 1. ]\n",
            " [1.  1. ]\n",
            " [1.  1. ]]\n"
          ],
          "name": "stdout"
        },
        {
          "output_type": "execute_result",
          "data": {
            "text/plain": [
              "0.93865625"
            ]
          },
          "metadata": {
            "tags": []
          },
          "execution_count": 21
        }
      ]
    },
    {
      "cell_type": "code",
      "metadata": {
        "colab": {
          "base_uri": "https://localhost:8080/"
        },
        "id": "KH9HNZuOiios",
        "outputId": "0b702f52-37b2-4223-a73d-2abc0d235dea"
      },
      "source": [
        "from sklearn.tree import DecisionTreeRegressor\n",
        "regressor = DecisionTreeRegressor(random_state = 0)\n",
        "regressor.fit(X_train, y_train)\n",
        "y_pred = regressor.predict(X_test)\n",
        "np.set_printoptions(precision=2)\n",
        "print(np.concatenate((y_pred.reshape(len(y_pred),1), y_test.reshape(len(y_test),1)),1))\n",
        "from sklearn.metrics import r2_score\n",
        "r2_score(y_test, y_pred)"
      ],
      "execution_count": 22,
      "outputs": [
        {
          "output_type": "stream",
          "text": [
            "[[1. 1.]\n",
            " [1. 1.]\n",
            " [1. 1.]\n",
            " [0. 0.]\n",
            " [0. 0.]\n",
            " [1. 1.]\n",
            " [1. 1.]\n",
            " [1. 1.]\n",
            " [1. 1.]\n",
            " [1. 1.]\n",
            " [1. 1.]\n",
            " [0. 0.]\n",
            " [1. 1.]\n",
            " [1. 1.]\n",
            " [1. 1.]\n",
            " [1. 1.]\n",
            " [0. 0.]\n",
            " [1. 1.]\n",
            " [1. 1.]\n",
            " [1. 1.]\n",
            " [1. 1.]\n",
            " [1. 1.]\n",
            " [1. 1.]\n",
            " [0. 0.]\n",
            " [0. 0.]\n",
            " [0. 0.]\n",
            " [1. 1.]\n",
            " [1. 1.]\n",
            " [0. 0.]\n",
            " [1. 1.]\n",
            " [1. 1.]\n",
            " [0. 0.]\n",
            " [0. 0.]\n",
            " [1. 1.]\n",
            " [1. 1.]\n",
            " [1. 1.]\n",
            " [1. 1.]\n",
            " [0. 0.]\n",
            " [1. 1.]\n",
            " [1. 1.]\n",
            " [0. 1.]\n",
            " [0. 0.]\n",
            " [1. 1.]\n",
            " [0. 0.]\n",
            " [0. 0.]\n",
            " [1. 1.]\n",
            " [1. 1.]\n",
            " [0. 0.]\n",
            " [1. 1.]\n",
            " [0. 0.]\n",
            " [1. 1.]\n",
            " [0. 0.]\n",
            " [1. 1.]\n",
            " [0. 0.]\n",
            " [1. 1.]\n",
            " [0. 1.]\n",
            " [1. 1.]\n",
            " [1. 1.]\n",
            " [1. 1.]\n",
            " [1. 1.]\n",
            " [0. 0.]\n",
            " [0. 0.]\n",
            " [1. 1.]\n",
            " [0. 0.]\n",
            " [1. 1.]\n",
            " [0. 0.]\n",
            " [1. 1.]\n",
            " [0. 0.]\n",
            " [1. 1.]\n",
            " [1. 1.]\n",
            " [0. 0.]\n",
            " [0. 0.]\n",
            " [1. 1.]\n",
            " [1. 1.]\n",
            " [0. 0.]\n",
            " [1. 1.]\n",
            " [0. 0.]\n",
            " [1. 1.]\n",
            " [1. 1.]\n",
            " [0. 0.]\n",
            " [1. 1.]\n",
            " [0. 1.]\n",
            " [0. 0.]\n",
            " [0. 0.]\n",
            " [1. 1.]\n",
            " [0. 0.]\n",
            " [1. 1.]\n",
            " [1. 1.]\n",
            " [0. 0.]\n",
            " [0. 0.]\n",
            " [0. 0.]\n",
            " [0. 0.]\n",
            " [0. 0.]\n",
            " [0. 0.]\n",
            " [0. 0.]\n",
            " [1. 1.]\n",
            " [1. 1.]\n",
            " [1. 1.]\n",
            " [1. 1.]\n",
            " [0. 0.]\n",
            " [0. 0.]\n",
            " [1. 1.]\n",
            " [1. 1.]\n",
            " [1. 1.]]\n"
          ],
          "name": "stdout"
        },
        {
          "output_type": "execute_result",
          "data": {
            "text/plain": [
              "0.878125"
            ]
          },
          "metadata": {
            "tags": []
          },
          "execution_count": 22
        }
      ]
    },
    {
      "cell_type": "code",
      "metadata": {
        "colab": {
          "base_uri": "https://localhost:8080/"
        },
        "id": "C85lg3AMjBJA",
        "outputId": "d0bb56d4-6a96-4c8d-d1ea-a54d5ea78ff8"
      },
      "source": [
        "y = y.reshape(len(y),1)\n",
        "from sklearn.model_selection import train_test_split\n",
        "X_train, X_test, y_train, y_test = train_test_split(X, y, test_size = 0.2, random_state = 0)\n",
        "from sklearn.preprocessing import StandardScaler\n",
        "sc_X = StandardScaler()\n",
        "sc_y = StandardScaler()\n",
        "X_train = sc_X.fit_transform(X_train)\n",
        "y_train = sc_y.fit_transform(y_train)\n",
        "from sklearn.svm import SVR\n",
        "regressor = SVR(kernel = 'rbf')\n",
        "regressor.fit(X_train, y_train)\n",
        "y_pred = sc_y.inverse_transform(regressor.predict(sc_X.transform(X_test)))\n",
        "np.set_printoptions(precision=2)\n",
        "print(np.concatenate((y_pred.reshape(len(y_pred),1), y_test.reshape(len(y_test),1)),1))\n",
        "from sklearn.metrics import r2_score\n",
        "r2_score(y_test, y_pred)"
      ],
      "execution_count": 24,
      "outputs": [
        {
          "output_type": "stream",
          "text": [
            "[[ 0.95  1.  ]\n",
            " [ 0.91  1.  ]\n",
            " [ 1.02  1.  ]\n",
            " [ 0.05  0.  ]\n",
            " [ 0.13  0.  ]\n",
            " [ 1.05  1.  ]\n",
            " [ 1.04  1.  ]\n",
            " [ 0.95  1.  ]\n",
            " [ 0.95  1.  ]\n",
            " [ 1.09  1.  ]\n",
            " [ 0.69  1.  ]\n",
            " [-0.    0.  ]\n",
            " [ 0.95  1.  ]\n",
            " [ 1.05  1.  ]\n",
            " [ 0.95  1.  ]\n",
            " [ 1.02  1.  ]\n",
            " [ 0.05  0.  ]\n",
            " [ 0.99  1.  ]\n",
            " [ 0.95  1.  ]\n",
            " [ 1.02  1.  ]\n",
            " [ 0.96  1.  ]\n",
            " [ 0.95  1.  ]\n",
            " [ 0.95  1.  ]\n",
            " [ 0.05  0.  ]\n",
            " [ 0.05  0.  ]\n",
            " [ 0.05  0.  ]\n",
            " [ 0.95  1.  ]\n",
            " [ 0.95  1.  ]\n",
            " [ 0.25  0.  ]\n",
            " [ 0.95  1.  ]\n",
            " [ 1.03  1.  ]\n",
            " [ 0.05  0.  ]\n",
            " [ 0.21  0.  ]\n",
            " [ 1.05  1.  ]\n",
            " [ 1.01  1.  ]\n",
            " [ 0.95  1.  ]\n",
            " [ 0.99  1.  ]\n",
            " [-0.04  0.  ]\n",
            " [ 1.02  1.  ]\n",
            " [ 1.04  1.  ]\n",
            " [ 1.09  1.  ]\n",
            " [-0.05  0.  ]\n",
            " [ 1.05  1.  ]\n",
            " [ 0.05  0.  ]\n",
            " [ 0.05  0.  ]\n",
            " [ 1.02  1.  ]\n",
            " [ 1.05  1.  ]\n",
            " [ 0.08  0.  ]\n",
            " [ 1.05  1.  ]\n",
            " [ 0.05  0.  ]\n",
            " [ 0.99  1.  ]\n",
            " [ 0.05  0.  ]\n",
            " [ 1.02  1.  ]\n",
            " [ 0.05  0.  ]\n",
            " [ 1.05  1.  ]\n",
            " [ 0.54  1.  ]\n",
            " [ 1.01  1.  ]\n",
            " [ 0.87  1.  ]\n",
            " [ 0.95  1.  ]\n",
            " [ 1.02  1.  ]\n",
            " [ 0.05  0.  ]\n",
            " [-0.2   0.  ]\n",
            " [ 1.09  1.  ]\n",
            " [ 0.13  0.  ]\n",
            " [ 0.99  1.  ]\n",
            " [ 0.35  0.  ]\n",
            " [ 0.88  1.  ]\n",
            " [ 0.05  0.  ]\n",
            " [ 1.05  1.  ]\n",
            " [ 1.05  1.  ]\n",
            " [ 0.05  0.  ]\n",
            " [ 0.05  0.  ]\n",
            " [ 1.18  1.  ]\n",
            " [ 0.95  1.  ]\n",
            " [ 0.05  0.  ]\n",
            " [ 0.95  1.  ]\n",
            " [ 0.05  0.  ]\n",
            " [ 1.16  1.  ]\n",
            " [ 0.98  1.  ]\n",
            " [ 0.05  0.  ]\n",
            " [ 1.08  1.  ]\n",
            " [ 0.91  1.  ]\n",
            " [-0.    0.  ]\n",
            " [ 0.05  0.  ]\n",
            " [ 1.05  1.  ]\n",
            " [ 0.05  0.  ]\n",
            " [ 1.02  1.  ]\n",
            " [ 0.96  1.  ]\n",
            " [ 0.05  0.  ]\n",
            " [-0.05  0.  ]\n",
            " [-0.    0.  ]\n",
            " [ 0.05  0.  ]\n",
            " [-0.32  0.  ]\n",
            " [-0.04  0.  ]\n",
            " [ 0.13  0.  ]\n",
            " [ 0.95  1.  ]\n",
            " [ 0.95  1.  ]\n",
            " [ 0.95  1.  ]\n",
            " [ 0.95  1.  ]\n",
            " [ 0.05  0.  ]\n",
            " [ 0.05  0.  ]\n",
            " [ 1.04  1.  ]\n",
            " [ 0.96  1.  ]\n",
            " [ 0.56  1.  ]]\n"
          ],
          "name": "stdout"
        },
        {
          "output_type": "stream",
          "text": [
            "/usr/local/lib/python3.7/dist-packages/sklearn/utils/validation.py:760: DataConversionWarning: A column-vector y was passed when a 1d array was expected. Please change the shape of y to (n_samples, ), for example using ravel().\n",
            "  y = column_or_1d(y, warn=True)\n"
          ],
          "name": "stderr"
        },
        {
          "output_type": "execute_result",
          "data": {
            "text/plain": [
              "0.9507156229005251"
            ]
          },
          "metadata": {
            "tags": []
          },
          "execution_count": 24
        }
      ]
    },
    {
      "cell_type": "code",
      "metadata": {
        "colab": {
          "base_uri": "https://localhost:8080/"
        },
        "id": "DpN7hwPMjJQ1",
        "outputId": "4215ee36-0f39-4b76-8082-7a0926de7810"
      },
      "source": [
        "from sklearn.model_selection import cross_val_score\n",
        "accuracies = cross_val_score(estimator = regressor, X = X_train, y = y_train, cv = 10)\n",
        "print(\"Accuracy: {:.2f} %\".format(accuracies.mean()*100))\n",
        "print(\"Standard Deviation: {:.2f} %\".format(accuracies.std()*100))"
      ],
      "execution_count": 25,
      "outputs": [
        {
          "output_type": "stream",
          "text": [
            "Accuracy: 84.67 %\n",
            "Standard Deviation: 9.49 %\n"
          ],
          "name": "stdout"
        },
        {
          "output_type": "stream",
          "text": [
            "/usr/local/lib/python3.7/dist-packages/sklearn/utils/validation.py:760: DataConversionWarning: A column-vector y was passed when a 1d array was expected. Please change the shape of y to (n_samples, ), for example using ravel().\n",
            "  y = column_or_1d(y, warn=True)\n",
            "/usr/local/lib/python3.7/dist-packages/sklearn/utils/validation.py:760: DataConversionWarning: A column-vector y was passed when a 1d array was expected. Please change the shape of y to (n_samples, ), for example using ravel().\n",
            "  y = column_or_1d(y, warn=True)\n",
            "/usr/local/lib/python3.7/dist-packages/sklearn/utils/validation.py:760: DataConversionWarning: A column-vector y was passed when a 1d array was expected. Please change the shape of y to (n_samples, ), for example using ravel().\n",
            "  y = column_or_1d(y, warn=True)\n",
            "/usr/local/lib/python3.7/dist-packages/sklearn/utils/validation.py:760: DataConversionWarning: A column-vector y was passed when a 1d array was expected. Please change the shape of y to (n_samples, ), for example using ravel().\n",
            "  y = column_or_1d(y, warn=True)\n",
            "/usr/local/lib/python3.7/dist-packages/sklearn/utils/validation.py:760: DataConversionWarning: A column-vector y was passed when a 1d array was expected. Please change the shape of y to (n_samples, ), for example using ravel().\n",
            "  y = column_or_1d(y, warn=True)\n",
            "/usr/local/lib/python3.7/dist-packages/sklearn/utils/validation.py:760: DataConversionWarning: A column-vector y was passed when a 1d array was expected. Please change the shape of y to (n_samples, ), for example using ravel().\n",
            "  y = column_or_1d(y, warn=True)\n",
            "/usr/local/lib/python3.7/dist-packages/sklearn/utils/validation.py:760: DataConversionWarning: A column-vector y was passed when a 1d array was expected. Please change the shape of y to (n_samples, ), for example using ravel().\n",
            "  y = column_or_1d(y, warn=True)\n",
            "/usr/local/lib/python3.7/dist-packages/sklearn/utils/validation.py:760: DataConversionWarning: A column-vector y was passed when a 1d array was expected. Please change the shape of y to (n_samples, ), for example using ravel().\n",
            "  y = column_or_1d(y, warn=True)\n",
            "/usr/local/lib/python3.7/dist-packages/sklearn/utils/validation.py:760: DataConversionWarning: A column-vector y was passed when a 1d array was expected. Please change the shape of y to (n_samples, ), for example using ravel().\n",
            "  y = column_or_1d(y, warn=True)\n",
            "/usr/local/lib/python3.7/dist-packages/sklearn/utils/validation.py:760: DataConversionWarning: A column-vector y was passed when a 1d array was expected. Please change the shape of y to (n_samples, ), for example using ravel().\n",
            "  y = column_or_1d(y, warn=True)\n"
          ],
          "name": "stderr"
        }
      ]
    }
  ]
}